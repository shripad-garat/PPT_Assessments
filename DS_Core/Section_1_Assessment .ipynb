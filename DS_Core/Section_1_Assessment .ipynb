{
 "cells": [
  {
   "cell_type": "markdown",
   "id": "1657aaf7",
   "metadata": {},
   "source": [
    "1. Write a Python program to reverse a string without using any built-in string reversal functions."
   ]
  },
  {
   "cell_type": "code",
   "execution_count": 1,
   "id": "44f0e383",
   "metadata": {},
   "outputs": [
    {
     "data": {
      "text/plain": [
       "'frsquy'"
      ]
     },
     "execution_count": 1,
     "metadata": {},
     "output_type": "execute_result"
    }
   ],
   "source": [
    "def reverse(s):\n",
    "    try:\n",
    "        return s[::-1]\n",
    "    except Exception as e:\n",
    "        raise e\n",
    "s = 'yuqsrf'\n",
    "reverse(s)"
   ]
  },
  {
   "cell_type": "markdown",
   "id": "4a8091ae",
   "metadata": {},
   "source": [
    "2. Implement a function to check if a given string is a palindrome.\n"
   ]
  },
  {
   "cell_type": "code",
   "execution_count": 2,
   "id": "eb03f2a1",
   "metadata": {},
   "outputs": [
    {
     "data": {
      "text/plain": [
       "True"
      ]
     },
     "execution_count": 2,
     "metadata": {},
     "output_type": "execute_result"
    }
   ],
   "source": [
    "def palindrome(x):\n",
    "    try:\n",
    "        if str(x) == str(x)[::-1]:\n",
    "            return True\n",
    "        else:\n",
    "            return False\n",
    "    except Exception as e:\n",
    "        raise e\n",
    "n = 484\n",
    "palindrome(n)"
   ]
  },
  {
   "cell_type": "markdown",
   "id": "fd993a7a",
   "metadata": {},
   "source": [
    "3. Write a program to find the largest element in a given list."
   ]
  },
  {
   "cell_type": "code",
   "execution_count": 3,
   "id": "fdd9718f",
   "metadata": {},
   "outputs": [
    {
     "data": {
      "text/plain": [
       "58"
      ]
     },
     "execution_count": 3,
     "metadata": {},
     "output_type": "execute_result"
    }
   ],
   "source": [
    "def large(l:list):\n",
    "    try:\n",
    "        maxx = None\n",
    "        for i in range(len(l)):\n",
    "            if maxx == None:\n",
    "                maxx = l[i]\n",
    "            if maxx < l[i]:\n",
    "                maxx = l[i]\n",
    "        return maxx\n",
    "    except Exception as e:\n",
    "        raise e\n",
    "        \n",
    "l = [1,2,1,33,58,9,6,4]\n",
    "large(l)"
   ]
  },
  {
   "cell_type": "markdown",
   "id": "0088b231",
   "metadata": {},
   "source": [
    "4. Implement a function to count the occurrence of each element in a list.\n"
   ]
  },
  {
   "cell_type": "code",
   "execution_count": 4,
   "id": "9a62d3e0",
   "metadata": {},
   "outputs": [
    {
     "data": {
      "text/plain": [
       "{11: 3, 22: 1, 33: 1, 88: 1, 4: 3, 5: 2}"
      ]
     },
     "execution_count": 4,
     "metadata": {},
     "output_type": "execute_result"
    }
   ],
   "source": [
    "def occure(l:list):\n",
    "    try:\n",
    "        d = {}\n",
    "        for i in l:\n",
    "            if i in d:\n",
    "                d[i] += 1\n",
    "            else:\n",
    "                d[i] = 1\n",
    "        return d\n",
    "    except Exception as e:\n",
    "        raise e\n",
    "l = [11,11,11,22,33,88,4,5,4,5,4]\n",
    "occure(l)"
   ]
  },
  {
   "cell_type": "markdown",
   "id": "c1e709be",
   "metadata": {},
   "source": [
    "5. Write a Python program to find the second largest number in a list.\n"
   ]
  },
  {
   "cell_type": "code",
   "execution_count": 5,
   "id": "7c4617fd",
   "metadata": {},
   "outputs": [
    {
     "data": {
      "text/plain": [
       "912"
      ]
     },
     "execution_count": 5,
     "metadata": {},
     "output_type": "execute_result"
    }
   ],
   "source": [
    "def secLarg(l:list):\n",
    "    try:\n",
    "        maxx = None\n",
    "        maxx2 = None\n",
    "        for i in range(len(l)):\n",
    "            if maxx == None:\n",
    "                maxx = l[i]\n",
    "            if maxx < l[i]:\n",
    "                maxx2 = maxx\n",
    "                maxx = l[i]\n",
    "            if maxx2 == None or (maxx2 < l[i] and maxx> l[i]):\n",
    "                maxx2 = l[i]\n",
    "        return maxx2\n",
    "    except Exception as e:\n",
    "        raise e \n",
    "        \n",
    "l = [81,91,6482,912,580,14]\n",
    "secLarg(l)"
   ]
  },
  {
   "cell_type": "markdown",
   "id": "2123430b",
   "metadata": {},
   "source": [
    "6. Implement a function to remove duplicate elements from a list"
   ]
  },
  {
   "cell_type": "code",
   "execution_count": 6,
   "id": "d21018e3",
   "metadata": {},
   "outputs": [
    {
     "data": {
      "text/plain": [
       "[1, 2, 3, 5, 6, 9, 4]"
      ]
     },
     "execution_count": 6,
     "metadata": {},
     "output_type": "execute_result"
    }
   ],
   "source": [
    "def removeDub(l:list):\n",
    "    try:\n",
    "        n = []\n",
    "        for i in l:\n",
    "            if i not in n:\n",
    "                n.append(i)\n",
    "        return n\n",
    "    except Exception as e:\n",
    "        raise e\n",
    "l = [1,1,2,3,3,5,6,9,2,2,2,4]\n",
    "removeDub(l)"
   ]
  },
  {
   "cell_type": "markdown",
   "id": "14e54f56",
   "metadata": {},
   "source": [
    "7. Write a program to calculate the factorial of a given number."
   ]
  },
  {
   "cell_type": "code",
   "execution_count": 7,
   "id": "4cc4f2bb",
   "metadata": {},
   "outputs": [
    {
     "data": {
      "text/plain": [
       "120"
      ]
     },
     "execution_count": 7,
     "metadata": {},
     "output_type": "execute_result"
    }
   ],
   "source": [
    "def fact(n):\n",
    "    try:\n",
    "        if n == 0:\n",
    "            return 1\n",
    "        return n*fact(n-1)\n",
    "    except Exception as e:\n",
    "        raise e\n",
    "n = 5\n",
    "fact(n)"
   ]
  },
  {
   "cell_type": "markdown",
   "id": "8eaefbaa",
   "metadata": {},
   "source": [
    "8. Implement a function to check if a given number is prime."
   ]
  },
  {
   "cell_type": "code",
   "execution_count": 8,
   "id": "53da756a",
   "metadata": {},
   "outputs": [
    {
     "data": {
      "text/plain": [
       "True"
      ]
     },
     "execution_count": 8,
     "metadata": {},
     "output_type": "execute_result"
    }
   ],
   "source": [
    "import math\n",
    "def prime(n):\n",
    "    try:\n",
    "        if n <= 1:\n",
    "            return False\n",
    "        for i in range(2, int(math.sqrt(n)) + 1):\n",
    "            if n % i == 0:\n",
    "                return False\n",
    "        return True\n",
    "    except Exception as e:\n",
    "        raise e\n",
    "        \n",
    "n = 17\n",
    "prime(n)"
   ]
  },
  {
   "cell_type": "markdown",
   "id": "339fc600",
   "metadata": {},
   "source": [
    "9. Write a Python program to sort a list of integers in ascending order."
   ]
  },
  {
   "cell_type": "code",
   "execution_count": 9,
   "id": "a437b0a8",
   "metadata": {},
   "outputs": [
    {
     "data": {
      "text/plain": [
       "[2, 2, 5, 5, 5, 6, 7, 7, 7, 7, 9, 65, 78]"
      ]
     },
     "execution_count": 9,
     "metadata": {},
     "output_type": "execute_result"
    }
   ],
   "source": [
    "def sort(li):\n",
    "    try:\n",
    "        l = 0\n",
    "        r = 1\n",
    "        while(l != len(li)-1):\n",
    "            \n",
    "            if li[l]> li[r]:\n",
    "                li[l],li[r]=li[r],li[l]\n",
    "            if r == len(li)-1:\n",
    "                l += 1\n",
    "                r = l + 1\n",
    "                continue\n",
    "            r+=1\n",
    "        return li\n",
    "    except Exception as e:\n",
    "        raise e\n",
    "        \n",
    "l = [2,2,9,7,6,78,5,7,65,7,5,7,5]\n",
    "sort(l)"
   ]
  },
  {
   "cell_type": "markdown",
   "id": "1ee09bd2",
   "metadata": {},
   "source": [
    "10. Implement a function to find the sum of all numbers in a list."
   ]
  },
  {
   "cell_type": "code",
   "execution_count": 10,
   "id": "dcb6ed84",
   "metadata": {},
   "outputs": [
    {
     "data": {
      "text/plain": [
       "1892"
      ]
     },
     "execution_count": 10,
     "metadata": {},
     "output_type": "execute_result"
    }
   ],
   "source": [
    "def summ(l):\n",
    "    try:\n",
    "        n = 0\n",
    "        for i in l:\n",
    "            n += i\n",
    "        return n\n",
    "    except Exception as e:\n",
    "        raise e\n",
    "\n",
    "l = [1,2,3,892,8,986]\n",
    "summ(l)"
   ]
  },
  {
   "cell_type": "markdown",
   "id": "86172805",
   "metadata": {},
   "source": [
    "11. Write a program to find the common elements between two lists."
   ]
  },
  {
   "cell_type": "code",
   "execution_count": 11,
   "id": "47c7cdae",
   "metadata": {},
   "outputs": [
    {
     "data": {
      "text/plain": [
       "[1, 2, 8, 5]"
      ]
     },
     "execution_count": 11,
     "metadata": {},
     "output_type": "execute_result"
    }
   ],
   "source": [
    "def comm(l1,l2):\n",
    "    try:\n",
    "        a = []\n",
    "        l = min(len(l1),len(l2))\n",
    "        for i in range(l):\n",
    "            if (l1[i] in l2) and (l1[i] not in a):\n",
    "                a.append(l1[i])\n",
    "            if (l2[i] in l1) and (l2[i] not in a):\n",
    "                a.append(l2[i])\n",
    "                \n",
    "        return a\n",
    "    except Exception as e:\n",
    "        raise e\n",
    "        \n",
    "l1 = [1,2,8,69,87,5,8]\n",
    "l2 = [1,2,3,8,5,8,6,7,65]\n",
    "comm(l1,l2)"
   ]
  },
  {
   "cell_type": "markdown",
   "id": "c9c3f935",
   "metadata": {},
   "source": [
    "12. Implement a function to check if a given string is an anagram of another string."
   ]
  },
  {
   "cell_type": "code",
   "execution_count": 12,
   "id": "6a9ffe56",
   "metadata": {},
   "outputs": [
    {
     "data": {
      "text/plain": [
       "True"
      ]
     },
     "execution_count": 12,
     "metadata": {},
     "output_type": "execute_result"
    }
   ],
   "source": [
    "def anagram(l,m):\n",
    "    try:\n",
    "        if sorted(l) == sorted(m):\n",
    "            return True\n",
    "        return False\n",
    "    except Exception as e:\n",
    "        raise e\n",
    "        \n",
    "l = 'fried'\n",
    "m = 'fired'\n",
    "anagram(l,m)"
   ]
  },
  {
   "cell_type": "markdown",
   "id": "cb30e491",
   "metadata": {},
   "source": [
    "13. Write a Python program to generate all permutations of a given string.\n"
   ]
  },
  {
   "cell_type": "code",
   "execution_count": 13,
   "id": "6ab98364",
   "metadata": {},
   "outputs": [
    {
     "name": "stdout",
     "output_type": "stream",
     "text": [
      "abc\n",
      "acb\n",
      "bac\n",
      "bca\n",
      "cab\n",
      "cba\n"
     ]
    }
   ],
   "source": [
    "def permutations(remaining, candidate=''):\n",
    "    try:\n",
    "        \n",
    "        if len(remaining) == 0:\n",
    "            print(candidate)\n",
    "\n",
    "        for i in range(len(remaining)):\n",
    "\n",
    "            newCandidate = candidate + remaining[i]\n",
    "            newRemaining = remaining[0:i] + remaining[i+1:]\n",
    "\n",
    "            permutations(newRemaining, newCandidate)\n",
    "    except Exception as e:\n",
    "        raise e\n",
    "permutations('abc')"
   ]
  },
  {
   "cell_type": "markdown",
   "id": "31f8db0d",
   "metadata": {},
   "source": [
    "14. Implement a function to calculate the Fibonacci sequence up to a given number of terms.\n"
   ]
  },
  {
   "cell_type": "code",
   "execution_count": 14,
   "id": "28bc03a2",
   "metadata": {},
   "outputs": [
    {
     "data": {
      "text/plain": [
       "[0, 1, 1, 2, 3, 5]"
      ]
     },
     "execution_count": 14,
     "metadata": {},
     "output_type": "execute_result"
    }
   ],
   "source": [
    "def Fibonacci(n):\n",
    "    try:\n",
    "        feb = [0,1]\n",
    "        for i in range(1,n):\n",
    "            feb.append(feb[i-1]+feb[i])\n",
    "        return feb\n",
    "    except Exception as e:\n",
    "        raise e\n",
    "n = 5\n",
    "Fibonacci(n)"
   ]
  },
  {
   "cell_type": "markdown",
   "id": "b0bed502",
   "metadata": {},
   "source": [
    "15. Write a program to find the median of a list of numbers."
   ]
  },
  {
   "cell_type": "code",
   "execution_count": 15,
   "id": "307e3677",
   "metadata": {},
   "outputs": [
    {
     "data": {
      "text/plain": [
       "6"
      ]
     },
     "execution_count": 15,
     "metadata": {},
     "output_type": "execute_result"
    }
   ],
   "source": [
    "def median(l):\n",
    "    try:\n",
    "        l = sorted(l)\n",
    "        if len(l)%2==0:\n",
    "            return l[len(l)/2]\n",
    "        else:\n",
    "            return l[(len(l)//2)+1]\n",
    "    except Exception as e:\n",
    "        raise e\n",
    "        \n",
    "l = [1,2,6,8,5,6,12,3,2]\n",
    "median(l)"
   ]
  },
  {
   "cell_type": "markdown",
   "id": "da925d9d",
   "metadata": {},
   "source": [
    "16. Implement a function to check if a given list is sorted in non-decreasing order.\n"
   ]
  },
  {
   "cell_type": "code",
   "execution_count": 16,
   "id": "c854c4f3",
   "metadata": {},
   "outputs": [
    {
     "data": {
      "text/plain": [
       "True"
      ]
     },
     "execution_count": 16,
     "metadata": {},
     "output_type": "execute_result"
    }
   ],
   "source": [
    "def is_sort(l):\n",
    "    try:\n",
    "        for i in range(len(l)-1):\n",
    "            if l[i]>l[i+1]:\n",
    "                return False\n",
    "        return True\n",
    "    except Exception as e:\n",
    "        raise e\n",
    "        \n",
    "l = [1,3,5,6,9]\n",
    "is_sort(l)"
   ]
  },
  {
   "cell_type": "markdown",
   "id": "743e8c27",
   "metadata": {},
   "source": [
    "17. Write a Python program to find the intersection of two lists."
   ]
  },
  {
   "cell_type": "code",
   "execution_count": 17,
   "id": "ae369abf",
   "metadata": {},
   "outputs": [
    {
     "data": {
      "text/plain": [
       "[12, 63]"
      ]
     },
     "execution_count": 17,
     "metadata": {},
     "output_type": "execute_result"
    }
   ],
   "source": [
    "def interSect(m,n):\n",
    "    try:\n",
    "        a = []\n",
    "        l = min(len(m),len(n))\n",
    "        for i in range(l):\n",
    "            if m[i] in n and m[i] not in a:\n",
    "                a.append(m[i])\n",
    "            elif n[i] in m and n[i] not in a:\n",
    "                a.append\n",
    "        return a\n",
    "    except Exception as e:\n",
    "        raise e\n",
    "m = [12,63,6,85,52,6,3]\n",
    "n = [12,63,952,9,5496,645]\n",
    "interSect(m,n)"
   ]
  },
  {
   "cell_type": "markdown",
   "id": "86729d1b",
   "metadata": {},
   "source": [
    "18. Implement a function to find the maximum subarray sum in a given list"
   ]
  },
  {
   "cell_type": "code",
   "execution_count": 18,
   "id": "f14c5fa7",
   "metadata": {},
   "outputs": [
    {
     "data": {
      "text/plain": [
       "55"
      ]
     },
     "execution_count": 18,
     "metadata": {},
     "output_type": "execute_result"
    }
   ],
   "source": [
    "def arrLsum(l):\n",
    "    try:\n",
    "        m = -1e8\n",
    "        for i in range(len(l)):\n",
    "            c = 0\n",
    "            for j in range(i,len(l)):\n",
    "                c += l[j]\n",
    "                if m<c:\n",
    "                    m = c\n",
    "        return m\n",
    "    except Exception as e:\n",
    "        raise e\n",
    "        \n",
    "l = [-1,2,-5,-8,5,8,-6,48]\n",
    "arrLsum(l)"
   ]
  },
  {
   "cell_type": "markdown",
   "id": "f90c7406",
   "metadata": {},
   "source": [
    "19. Write a program to remove all vowels from a given string."
   ]
  },
  {
   "cell_type": "code",
   "execution_count": 19,
   "id": "309c8462",
   "metadata": {},
   "outputs": [
    {
     "data": {
      "text/plain": [
       "'jjks9b j wdqj djhnw[qh djhknmnj ]'"
      ]
     },
     "execution_count": 19,
     "metadata": {},
     "output_type": "execute_result"
    }
   ],
   "source": [
    "def rmVowel(s):\n",
    "    try:\n",
    "        v = ['a','e','i','o','u']\n",
    "        a = []\n",
    "        for i in s:\n",
    "            if i not in v:\n",
    "                a.append(i)\n",
    "        \n",
    "        return \"\".join(a)\n",
    "    except Exception as e:\n",
    "        raise e\n",
    "        \n",
    "s = 'jjksi9b eju wdqju djuhnwe[qh djuhiknemnj ]'\n",
    "rmVowel(s)"
   ]
  },
  {
   "cell_type": "markdown",
   "id": "5be31634",
   "metadata": {},
   "source": [
    "20. Implement a function to reverse the order of words in a given sentence."
   ]
  },
  {
   "cell_type": "code",
   "execution_count": 20,
   "id": "4c82dcc4",
   "metadata": {},
   "outputs": [
    {
     "data": {
      "text/plain": [
       "'property the delivers that software industry hotel transformative the is Benchmarking STR'"
      ]
     },
     "execution_count": 20,
     "metadata": {},
     "output_type": "execute_result"
    }
   ],
   "source": [
    "def reverse(s):\n",
    "    try:\n",
    "        a = s.split(\" \")\n",
    "        a = a[::-1]\n",
    "        return \" \".join(a)\n",
    "    except Exception as e:\n",
    "        raise e\n",
    "        \n",
    "s = 'STR Benchmarking is the transformative hotel industry software that delivers the property'\n",
    "reverse(s)"
   ]
  },
  {
   "cell_type": "markdown",
   "id": "86e507d9",
   "metadata": {},
   "source": [
    "21. Write a Python program to check if two strings are anagrams of each other."
   ]
  },
  {
   "cell_type": "code",
   "execution_count": 21,
   "id": "6074c644",
   "metadata": {},
   "outputs": [
    {
     "data": {
      "text/plain": [
       "True"
      ]
     },
     "execution_count": 21,
     "metadata": {},
     "output_type": "execute_result"
    }
   ],
   "source": [
    "def anagram(l,m):\n",
    "    try:\n",
    "        if sorted(l) == sorted(m):\n",
    "            return True\n",
    "        return False\n",
    "    except Exception as e:\n",
    "        raise e\n",
    "        \n",
    "l = 'fried'\n",
    "m = 'fired'\n",
    "anagram(l,m)"
   ]
  },
  {
   "cell_type": "markdown",
   "id": "ddc086cd",
   "metadata": {},
   "source": [
    "22. Implement a function to find the first non-repeating character in a string."
   ]
  },
  {
   "cell_type": "code",
   "execution_count": 22,
   "id": "bb6d1f7a",
   "metadata": {},
   "outputs": [
    {
     "data": {
      "text/plain": [
       "'n'"
      ]
     },
     "execution_count": 22,
     "metadata": {},
     "output_type": "execute_result"
    }
   ],
   "source": [
    "def nonRep(l):\n",
    "    try:\n",
    "        for i in range(len(l)):\n",
    "            if l[i] not in l[:i] and l[i] not in l[i+1:]:\n",
    "                return l[i]\n",
    "    except Exception as e:\n",
    "        raise e\n",
    "        \n",
    "l = 'sences'\n",
    "nonRep(l)"
   ]
  },
  {
   "cell_type": "markdown",
   "id": "167f7f22",
   "metadata": {},
   "source": [
    "23. Write a program to find the prime factors of a given number."
   ]
  },
  {
   "cell_type": "code",
   "execution_count": 26,
   "id": "55035530",
   "metadata": {},
   "outputs": [
    {
     "data": {
      "text/plain": [
       "[2, 29]"
      ]
     },
     "execution_count": 26,
     "metadata": {},
     "output_type": "execute_result"
    }
   ],
   "source": [
    "def primfact(n):\n",
    "    try:\n",
    "        i = 2\n",
    "        a = []\n",
    "        while(n>1):\n",
    "            if n%i==0:\n",
    "                a.append(i)\n",
    "                n = n/i\n",
    "            else:\n",
    "                i += 1\n",
    "        return a\n",
    "    except Exception as e:\n",
    "        raise e\n",
    "n = 58\n",
    "primfact(n)"
   ]
  },
  {
   "cell_type": "markdown",
   "id": "42f4271f",
   "metadata": {},
   "source": [
    "24. Implement a function to check if a given number is a power of two."
   ]
  },
  {
   "cell_type": "code",
   "execution_count": 27,
   "id": "ceb83720",
   "metadata": {},
   "outputs": [
    {
     "data": {
      "text/plain": [
       "True"
      ]
     },
     "execution_count": 27,
     "metadata": {},
     "output_type": "execute_result"
    }
   ],
   "source": [
    "def power(n):\n",
    "    try:\n",
    "        while(n>1):\n",
    "            if n%2==0:\n",
    "                n = n/2\n",
    "            else:\n",
    "                return False\n",
    "        return True\n",
    "    except Exception as e:\n",
    "        raise e\n",
    "n = 8\n",
    "power(8)"
   ]
  },
  {
   "cell_type": "markdown",
   "id": "868bc563",
   "metadata": {},
   "source": [
    "25. Write a Python program to merge two sorted lists into a single sorted list."
   ]
  },
  {
   "cell_type": "code",
   "execution_count": 28,
   "id": "544106b4",
   "metadata": {},
   "outputs": [
    {
     "data": {
      "text/plain": [
       "[0, 1, 2, 3, 4, 5, 6, 7, 8]"
      ]
     },
     "execution_count": 28,
     "metadata": {},
     "output_type": "execute_result"
    }
   ],
   "source": [
    "def sortList(m,n):\n",
    "    try:\n",
    "        l = []\n",
    "        r = 0\n",
    "        e = 0\n",
    "        while(r<len(m) and e<len(n)):\n",
    "            if m[r]<n[e]:\n",
    "                l.append(m[r])\n",
    "                r += 1\n",
    "            elif m[r]>n[e]:\n",
    "                l.append(n[e])\n",
    "                e += 1\n",
    "            else:\n",
    "                l.append(n[e])\n",
    "                l.append(m[r])\n",
    "                e += 1\n",
    "                r += 1\n",
    "        return l\n",
    "    except Exception as e:\n",
    "        raise e\n",
    "m = [1,3,5,7,9]\n",
    "n = [0,2,4,6,8]\n",
    "sortList(m,n)"
   ]
  },
  {
   "cell_type": "markdown",
   "id": "1e7a0d3b",
   "metadata": {},
   "source": [
    "26. Implement a function to find the mode of a list of numbers"
   ]
  },
  {
   "cell_type": "code",
   "execution_count": 33,
   "id": "9f452876",
   "metadata": {},
   "outputs": [
    {
     "data": {
      "text/plain": [
       "[1]"
      ]
     },
     "execution_count": 33,
     "metadata": {},
     "output_type": "execute_result"
    }
   ],
   "source": [
    "def mode(l):\n",
    "    try:\n",
    "        d = {}\n",
    "        for i in l:\n",
    "            if i in d:\n",
    "                d[i] += 1\n",
    "            else:\n",
    "                d[i] = 1\n",
    "        return [key for key in d.keys() if d[key] == max(d.values())]\n",
    "    except Exception as e:\n",
    "        raise e\n",
    "        \n",
    "l = [1,1,2,3,6,4,1,1,1]\n",
    "mode(l)"
   ]
  },
  {
   "cell_type": "markdown",
   "id": "aeea153c",
   "metadata": {},
   "source": [
    "27. Write a program to find the greatest common divisor (GCD) of two numbers.\n"
   ]
  },
  {
   "cell_type": "code",
   "execution_count": 34,
   "id": "2e5cd89d",
   "metadata": {},
   "outputs": [
    {
     "data": {
      "text/plain": [
       "5"
      ]
     },
     "execution_count": 34,
     "metadata": {},
     "output_type": "execute_result"
    }
   ],
   "source": [
    "def gcd(a,b):\n",
    "    try:\n",
    "        if (b == 0):\n",
    "             return a\n",
    "        return gcd(b, a%b)\n",
    "    except Exception as e:\n",
    "        raise e\n",
    "a = 5\n",
    "b = 20\n",
    "gcd(a,b)"
   ]
  },
  {
   "cell_type": "markdown",
   "id": "72b4a9a6",
   "metadata": {},
   "source": [
    "28. Implement a function to calculate the square root of a given number."
   ]
  },
  {
   "cell_type": "code",
   "execution_count": 36,
   "id": "c4621960",
   "metadata": {},
   "outputs": [
    {
     "data": {
      "text/plain": [
       "7.483314773547883"
      ]
     },
     "execution_count": 36,
     "metadata": {},
     "output_type": "execute_result"
    }
   ],
   "source": [
    "def sqr(n):\n",
    "    try:\n",
    "        return n**0.5\n",
    "    except Exception as e:\n",
    "        raise e\n",
    "n = 56\n",
    "sqr(n)"
   ]
  },
  {
   "cell_type": "markdown",
   "id": "1b584d1b",
   "metadata": {},
   "source": [
    "29. Write a Python program to check if a given string is a valid palindrome ignoring non-alphanumeric characters."
   ]
  },
  {
   "cell_type": "code",
   "execution_count": 41,
   "id": "eb3607a6",
   "metadata": {},
   "outputs": [
    {
     "data": {
      "text/plain": [
       "True"
      ]
     },
     "execution_count": 41,
     "metadata": {},
     "output_type": "execute_result"
    }
   ],
   "source": [
    "import re\n",
    "def palindrome(s):\n",
    "    try:\n",
    "        s = re.sub(r'[^a-zA-Z0-9]', '', s)\n",
    "        l = 0\n",
    "        r = len(s)-1\n",
    "        while(l!=r):\n",
    "            if s[l] == s[r]:\n",
    "                l += 1\n",
    "                r -= 1\n",
    "            else:\n",
    "                return False\n",
    "        return True\n",
    "    except Exception as e:\n",
    "        raise e\n",
    "s = 'madam'\n",
    "palindrome(s)"
   ]
  },
  {
   "cell_type": "markdown",
   "id": "0c3ccc9d",
   "metadata": {},
   "source": [
    "30. Implement a function to find the minimum element in a rotated sorted list."
   ]
  },
  {
   "cell_type": "code",
   "execution_count": 43,
   "id": "b1134a1a",
   "metadata": {},
   "outputs": [
    {
     "data": {
      "text/plain": [
       "1"
      ]
     },
     "execution_count": 43,
     "metadata": {},
     "output_type": "execute_result"
    }
   ],
   "source": [
    "def minRot(l):\n",
    "    try:\n",
    "        r = 1\n",
    "        while(r<len(l)):\n",
    "            if l[r] < l[r-1]:\n",
    "                return l[r]\n",
    "            r += 1\n",
    "        return l[0]\n",
    "    except Exception as e:\n",
    "        raise e\n",
    "        \n",
    "l = [5,6,7,8,9,1,2,3,4]\n",
    "minRot(l)"
   ]
  },
  {
   "cell_type": "markdown",
   "id": "edf5e2f2",
   "metadata": {},
   "source": [
    "31. Write a program to find the sum of all even numbers in a list."
   ]
  },
  {
   "cell_type": "code",
   "execution_count": 44,
   "id": "2633143c",
   "metadata": {},
   "outputs": [
    {
     "data": {
      "text/plain": [
       "20"
      ]
     },
     "execution_count": 44,
     "metadata": {},
     "output_type": "execute_result"
    }
   ],
   "source": [
    "def evenSum(l):\n",
    "    try:\n",
    "        summ = 0\n",
    "        for i in l:\n",
    "            if i%2==0:\n",
    "                summ += i\n",
    "        return summ\n",
    "    except Exception as e:\n",
    "        raise e\n",
    "        \n",
    "l = [0,1,2,3,4,6,9,7,8]\n",
    "evenSum(l)"
   ]
  },
  {
   "cell_type": "markdown",
   "id": "ffc92cc1",
   "metadata": {},
   "source": [
    "32. Implement a function to calculate the power of a number using recursion.\n"
   ]
  },
  {
   "cell_type": "code",
   "execution_count": 45,
   "id": "e4dbbbbc",
   "metadata": {},
   "outputs": [
    {
     "data": {
      "text/plain": [
       "125"
      ]
     },
     "execution_count": 45,
     "metadata": {},
     "output_type": "execute_result"
    }
   ],
   "source": [
    "def power(m,n):\n",
    "    try:\n",
    "        if n == 0:\n",
    "            return 1\n",
    "        return m*power(m,n-1)\n",
    "    except Exception as e:\n",
    "        raise e\n",
    "m = 5\n",
    "n = 3\n",
    "power(m,n)"
   ]
  },
  {
   "cell_type": "markdown",
   "id": "8bc6da7d",
   "metadata": {},
   "source": [
    "33. Write a Python program to remove duplicates from a list while preserving the order."
   ]
  },
  {
   "cell_type": "code",
   "execution_count": 46,
   "id": "62e94573",
   "metadata": {},
   "outputs": [
    {
     "data": {
      "text/plain": [
       "[1, 2, 3, 5, 5802, 25, 40]"
      ]
     },
     "execution_count": 46,
     "metadata": {},
     "output_type": "execute_result"
    }
   ],
   "source": [
    "def rmDub(l):\n",
    "    try:\n",
    "        n = []\n",
    "        for i in l:\n",
    "            if i not in n:\n",
    "                n.append(i)\n",
    "        return n\n",
    "    except Exception as e:\n",
    "        raise e\n",
    "l = [1,1,1,2,3,5,2,5802,5,25,40,3]\n",
    "rmDub(l)"
   ]
  },
  {
   "cell_type": "markdown",
   "id": "af065499",
   "metadata": {},
   "source": [
    "34. Implement a function to find the longest common prefix among a list of strings."
   ]
  },
  {
   "cell_type": "code",
   "execution_count": 54,
   "id": "e79af5c9",
   "metadata": {},
   "outputs": [
    {
     "data": {
      "text/plain": [
       "'app'"
      ]
     },
     "execution_count": 54,
     "metadata": {},
     "output_type": "execute_result"
    }
   ],
   "source": [
    "def longPrefix(l):\n",
    "    try:\n",
    "        le = len(l)\n",
    "        s = ''\n",
    "        if le == 0:\n",
    "            return \"\"\n",
    "        if le == 1:\n",
    "            return l[0]\n",
    "        if le == 2:\n",
    "            i = 0\n",
    "            while(i < min(len(l[0]),len(l[1]))):\n",
    "                if l[0][i]!=l[1][i]:\n",
    "                    break\n",
    "                s += l[0][i]\n",
    "                i += 1\n",
    "            return s\n",
    "        return longPrefix([longPrefix(l[:le//2]),longPrefix(l[le//2:])])\n",
    "    except Exception as e:\n",
    "        raise e\n",
    "l = ['apple','app','applon','appion']\n",
    "longPrefix(l)"
   ]
  },
  {
   "cell_type": "markdown",
   "id": "3a6dbf91",
   "metadata": {},
   "source": [
    "35. Write a program to check if a given number is a perfect square."
   ]
  },
  {
   "cell_type": "code",
   "execution_count": 57,
   "id": "41b94c2d",
   "metadata": {},
   "outputs": [
    {
     "data": {
      "text/plain": [
       "False"
      ]
     },
     "execution_count": 57,
     "metadata": {},
     "output_type": "execute_result"
    }
   ],
   "source": [
    "def isPerSqr(n):\n",
    "    try:\n",
    "        if int(n**0.5)**2 == n:\n",
    "            return True\n",
    "        return False\n",
    "    except Exception as e:\n",
    "        raise e\n",
    "        \n",
    "n = 5\n",
    "isPerSqr(n)"
   ]
  },
  {
   "cell_type": "markdown",
   "id": "f2818711",
   "metadata": {},
   "source": [
    "36. Implement a function to calculate the product of all elements in a list."
   ]
  },
  {
   "cell_type": "code",
   "execution_count": 58,
   "id": "6f32762b",
   "metadata": {},
   "outputs": [
    {
     "data": {
      "text/plain": [
       "5760"
      ]
     },
     "execution_count": 58,
     "metadata": {},
     "output_type": "execute_result"
    }
   ],
   "source": [
    "def prod(l):\n",
    "    try:\n",
    "        prod = 1\n",
    "        for i in l:\n",
    "            prod *= i\n",
    "        return prod\n",
    "    except Exception as e:\n",
    "        raise e\n",
    "l = [1,2,3,8,6,4,5]\n",
    "prod(l)"
   ]
  },
  {
   "cell_type": "markdown",
   "id": "5406839e",
   "metadata": {},
   "source": [
    "37. Write a Python program to reverse the order of words in a sentence while preserving the word order.\n"
   ]
  },
  {
   "cell_type": "code",
   "execution_count": 59,
   "id": "9da8c75c",
   "metadata": {},
   "outputs": [
    {
     "data": {
      "text/plain": [
       "'property the delivers that software industry hotel transformative the is Benchmarking STR'"
      ]
     },
     "execution_count": 59,
     "metadata": {},
     "output_type": "execute_result"
    }
   ],
   "source": [
    "def reverse(s):\n",
    "    try:\n",
    "        a = s.split(\" \")\n",
    "        a = a[::-1]\n",
    "        return \" \".join(a)\n",
    "    except Exception as e:\n",
    "        raise e\n",
    "        \n",
    "s = 'STR Benchmarking is the transformative hotel industry software that delivers the property'\n",
    "reverse(s)"
   ]
  },
  {
   "cell_type": "markdown",
   "id": "b7a2f04e",
   "metadata": {},
   "source": [
    "38. Implement a function to find the missing number in a given list of consecutive numbers."
   ]
  },
  {
   "cell_type": "code",
   "execution_count": 61,
   "id": "18283f25",
   "metadata": {},
   "outputs": [
    {
     "data": {
      "text/plain": [
       "5"
      ]
     },
     "execution_count": 61,
     "metadata": {},
     "output_type": "execute_result"
    }
   ],
   "source": [
    "def missCons(l):\n",
    "    try:\n",
    "        for i in range(len(l)-1):\n",
    "            if l[i]+1 != l[i+1]:\n",
    "                return l[i]+1\n",
    "    except Exception as e:\n",
    "        raise e\n",
    "l = [1,2,3,4,6]\n",
    "missCons(l)"
   ]
  },
  {
   "cell_type": "markdown",
   "id": "2896aa57",
   "metadata": {},
   "source": [
    "39. Write a program to find the sum of digits of a given number."
   ]
  },
  {
   "cell_type": "code",
   "execution_count": 66,
   "id": "97249e11",
   "metadata": {},
   "outputs": [
    {
     "data": {
      "text/plain": [
       "6"
      ]
     },
     "execution_count": 66,
     "metadata": {},
     "output_type": "execute_result"
    }
   ],
   "source": [
    "def sumDig(n):\n",
    "    try:\n",
    "        s = 0\n",
    "        while(n>0):\n",
    "            s += n%10\n",
    "            n = n//10\n",
    "        return s\n",
    "    except Exception as e:\n",
    "        raise e \n",
    "        \n",
    "n = 123\n",
    "sumDig(n)"
   ]
  },
  {
   "cell_type": "markdown",
   "id": "f7b5f3c3",
   "metadata": {},
   "source": [
    "40. Implement a function to check if a given string is a valid palindrome considering case sensitivity"
   ]
  },
  {
   "cell_type": "code",
   "execution_count": 67,
   "id": "7c331913",
   "metadata": {},
   "outputs": [
    {
     "data": {
      "text/plain": [
       "False"
      ]
     },
     "execution_count": 67,
     "metadata": {},
     "output_type": "execute_result"
    }
   ],
   "source": [
    "import re\n",
    "def palindrome(s):\n",
    "    try:\n",
    "        l = 0\n",
    "        r = len(s)-1\n",
    "        while(l!=r):\n",
    "            if s[l] == s[r]:\n",
    "                l += 1\n",
    "                r -= 1\n",
    "            else:\n",
    "                return False\n",
    "        return True\n",
    "    except Exception as e:\n",
    "        raise e\n",
    "s = 'Madam'\n",
    "palindrome(s)"
   ]
  },
  {
   "cell_type": "markdown",
   "id": "4be83981",
   "metadata": {},
   "source": [
    "41. Write a Python program to find the smallest missing positive integer in a list."
   ]
  },
  {
   "cell_type": "code",
   "execution_count": 68,
   "id": "178f5356",
   "metadata": {},
   "outputs": [
    {
     "data": {
      "text/plain": [
       "1"
      ]
     },
     "execution_count": 68,
     "metadata": {},
     "output_type": "execute_result"
    }
   ],
   "source": [
    "def missInt(l):\n",
    "    try:\n",
    "        i = 1\n",
    "        while(i<max(l)):\n",
    "            if i not in l:\n",
    "                return i\n",
    "    except Exception as e:\n",
    "        raise e\n",
    "        \n",
    "l = [-3,-2,0,2,3]\n",
    "missInt(l)"
   ]
  },
  {
   "cell_type": "markdown",
   "id": "266b0c24",
   "metadata": {},
   "source": [
    "42. Implement a function to find the longest palindrome substring in a given string."
   ]
  },
  {
   "cell_type": "code",
   "execution_count": 71,
   "id": "91bea0d3",
   "metadata": {},
   "outputs": [
    {
     "data": {
      "text/plain": [
       "'sisksis'"
      ]
     },
     "execution_count": 71,
     "metadata": {},
     "output_type": "execute_result"
    }
   ],
   "source": [
    "def palindrome(s:str):\n",
    "    try:\n",
    "        s = s.lower()\n",
    "        l = 0\n",
    "        r = len(s)-1\n",
    "        while(l!=r):\n",
    "            if s[l] == s[r]:\n",
    "                l += 1\n",
    "                r -= 1\n",
    "            else:\n",
    "                return False\n",
    "        return True\n",
    "    except Exception as e:\n",
    "        raise e\n",
    "def longPalin(l):\n",
    "    try:\n",
    "        maxl = 0\n",
    "        maxp = ''\n",
    "        for i in l:\n",
    "            if palindrome(i):\n",
    "                if maxl < len(i):\n",
    "                    maxl = len(l)\n",
    "                    maxp = i\n",
    "        return maxp\n",
    "    except Exception as e:\n",
    "        raise e\n",
    "l = ['madam','kik','solos','sisksis']\n",
    "longPalin(l)"
   ]
  },
  {
   "cell_type": "markdown",
   "id": "366726a3",
   "metadata": {},
   "source": [
    "43. Write a program to find the number of occurrences of a given element in a list."
   ]
  },
  {
   "cell_type": "code",
   "execution_count": 72,
   "id": "06e2923f",
   "metadata": {},
   "outputs": [
    {
     "data": {
      "text/plain": [
       "3"
      ]
     },
     "execution_count": 72,
     "metadata": {},
     "output_type": "execute_result"
    }
   ],
   "source": [
    "def occurCon(l,n):\n",
    "    try:\n",
    "        c = 0\n",
    "        for i in l:\n",
    "            if i == n:\n",
    "                c += 1\n",
    "        return c\n",
    "    except Exception as e:\n",
    "        raise e\n",
    "l = [1,2,1,2,1,2,3,5,4,9,10]\n",
    "n = 2\n",
    "occurCon(l,n)"
   ]
  },
  {
   "cell_type": "markdown",
   "id": "8df43c30",
   "metadata": {},
   "source": [
    "44. Implement a function to check if a given number is a perfect number.\n"
   ]
  },
  {
   "cell_type": "code",
   "execution_count": 73,
   "id": "c6eb0c30",
   "metadata": {},
   "outputs": [
    {
     "data": {
      "text/plain": [
       "True"
      ]
     },
     "execution_count": 73,
     "metadata": {},
     "output_type": "execute_result"
    }
   ],
   "source": [
    "def perfectNum(n):\n",
    "    try:\n",
    "        m = 1\n",
    "        for i in range(2,n):\n",
    "            if n%i==0:\n",
    "                m += i\n",
    "        if m == n:\n",
    "            return True\n",
    "        return False\n",
    "    except Exception as e:\n",
    "        raise e\n",
    "n = 6\n",
    "perfectNum(n)"
   ]
  },
  {
   "cell_type": "markdown",
   "id": "f27bfff3",
   "metadata": {},
   "source": [
    "45. Write a Python program to remove all duplicates from a string."
   ]
  },
  {
   "cell_type": "code",
   "execution_count": 74,
   "id": "2a57099e",
   "metadata": {},
   "outputs": [
    {
     "data": {
      "text/plain": [
       "'abcde'"
      ]
     },
     "execution_count": 74,
     "metadata": {},
     "output_type": "execute_result"
    }
   ],
   "source": [
    "def remDub(s):\n",
    "    try:\n",
    "        s = list(s)\n",
    "        a = []\n",
    "        for i in s:\n",
    "            if i not in a:\n",
    "                a.append(i)\n",
    "        return \"\".join(a)\n",
    "    except Exception as e:\n",
    "        raise e\n",
    "s = 'abcdedab'\n",
    "remDub(s)"
   ]
  },
  {
   "cell_type": "markdown",
   "id": "d113b2ff",
   "metadata": {},
   "source": [
    "46. Implement a function to find the first missing positive"
   ]
  },
  {
   "cell_type": "code",
   "execution_count": 75,
   "id": "03a253a3",
   "metadata": {},
   "outputs": [
    {
     "data": {
      "text/plain": [
       "1"
      ]
     },
     "execution_count": 75,
     "metadata": {},
     "output_type": "execute_result"
    }
   ],
   "source": [
    "def missInt(l):\n",
    "    try:\n",
    "        i = 1\n",
    "        while(i<max(l)):\n",
    "            if i not in l:\n",
    "                return i\n",
    "    except Exception as e:\n",
    "        raise e\n",
    "        \n",
    "l = [-3,-2,0,2,3]\n",
    "missInt(l)"
   ]
  },
  {
   "cell_type": "code",
   "execution_count": null,
   "id": "07c2b952",
   "metadata": {},
   "outputs": [],
   "source": []
  }
 ],
 "metadata": {
  "kernelspec": {
   "display_name": "Python 3 (ipykernel)",
   "language": "python",
   "name": "python3"
  },
  "language_info": {
   "codemirror_mode": {
    "name": "ipython",
    "version": 3
   },
   "file_extension": ".py",
   "mimetype": "text/x-python",
   "name": "python",
   "nbconvert_exporter": "python",
   "pygments_lexer": "ipython3",
   "version": "3.9.13"
  }
 },
 "nbformat": 4,
 "nbformat_minor": 5
}
